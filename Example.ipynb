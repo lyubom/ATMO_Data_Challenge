{
 "cells": [
  {
   "cell_type": "code",
   "execution_count": 1,
   "metadata": {},
   "outputs": [],
   "source": [
    "%load_ext autoreload\n",
    "%autoreload 2 # automatic reload if you do changes in the prediction or utils file.\n",
    "import prediction\n",
    "from utils import load_data,get_data_day"
   ]
  },
  {
   "cell_type": "code",
   "execution_count": null,
   "metadata": {},
   "outputs": [],
   "source": [
    "import logging\n",
    "logging.basicConfig(level=logging.INFO)"
   ]
  },
  {
   "cell_type": "markdown",
   "metadata": {},
   "source": [
    "## Use functions separately if you want to test your predict function on a given day"
   ]
  },
  {
   "cell_type": "code",
   "execution_count": null,
   "metadata": {},
   "outputs": [],
   "source": [
    "# get data from files \n",
    "# CHANGE DIRNAME TO WHERE YOU STORE YOUR DATA\n",
    "all_data=load_data(dirname=\"../Data/training\") \n",
    "\n",
    "# returns a dictionnary {\"sites\":sites,\"chimeres\":chimeres,\"geops\":geops,\"meteo\":meteo,\"concentrations\":concentrations}\n",
    "# see utils.load_data function for more details\n",
    "\n",
    "# from all_data, extract only  allowed data for day=3 (! january 4 as python starts with 0)\n",
    "data_day=get_data_day(3,all_data) \n",
    "\n",
    "## apply predict function for day=3, using \n",
    "prediction.predict(3,sites=all_data['sites'],chimeres_day=data_day[0],geops_day=data_day[1],meteo_day=data_day[2],concentrations_day=data_day[3])"
   ]
  },
  {
   "cell_type": "markdown",
   "metadata": {},
   "source": [
    "## OR run the run_predict function that will call your daily predict function\n",
    "### This is how it will be run on the platform"
   ]
  },
  {
   "cell_type": "code",
   "execution_count": null,
   "metadata": {},
   "outputs": [],
   "source": [
    "prediction.run_predict(list_days=range(50),dirname = \"../Data/training\") # here on the first 50 days of year, once again change dirname to where your datafiles are"
   ]
  },
  {
   "cell_type": "code",
   "execution_count": null,
   "metadata": {},
   "outputs": [],
   "source": [
    "## And get score in a file score.txt\n",
    "%run scoring.py"
   ]
  },
  {
   "cell_type": "code",
   "execution_count": null,
   "metadata": {},
   "outputs": [],
   "source": []
  }
 ],
 "metadata": {
  "kernelspec": {
   "display_name": "Python 3",
   "language": "python",
   "name": "python3"
  },
  "language_info": {
   "codemirror_mode": {
    "name": "ipython",
    "version": 3
   },
   "file_extension": ".py",
   "mimetype": "text/x-python",
   "name": "python",
   "nbconvert_exporter": "python",
   "pygments_lexer": "ipython3",
   "version": "3.6.7"
  }
 },
 "nbformat": 4,
 "nbformat_minor": 2
}
